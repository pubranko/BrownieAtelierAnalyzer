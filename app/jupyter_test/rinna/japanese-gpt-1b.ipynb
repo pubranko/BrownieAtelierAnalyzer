{
 "cells": [
  {
   "cell_type": "code",
   "execution_count": null,
   "metadata": {},
   "outputs": [],
   "source": [
    "import torch\n",
    "from transformers.models.auto.tokenization_auto import AutoTokenizer\n",
    "from transformers.models.auto.modeling_auto import AutoModelForCausalLM\n",
    "from typing import Any\n",
    "# from transformers.models.bert import BertTokenizer, BertForSequenceClassification\n",
    "# from transformers.trainer import Trainer\n",
    "# from transformers.training_args import TrainingArguments\n",
    "# from datasets import load_dataset #, load_metric\n",
    "# from datasets.dataset_dict import DatasetDict\n",
    "\n",
    "\n",
    "model_name = \"rinna/japanese-gpt-1b\"\n",
    "tokenizer = AutoTokenizer.from_pretrained(model_name, cache_dir=\"/mnt/c/LLM/rinna/japanese-gpt-1b\", use_fast=False, legacy=False)\n",
    "model = AutoModelForCausalLM.from_pretrained(model_name, cache_dir=\"/mnt/c/LLM/rinna/japanese-gpt-1b\")\n",
    "\n",
    "# model_name = \"bert-base-uncased\"\n",
    "# tokenizer = BertTokenizer.from_pretrained(model_name, cache_dir=\"/mnt/c/LLM/bert-base-uncased\")\n",
    "# model = BertForSequenceClassification.from_pretrained(model_name, cache_dir=\"/mnt/c/LLM/bert-base-uncased\", num_labels=2)\n",
    "\n",
    "\n",
    "# Trueが表示されればGPUが利用可能\n",
    "print(torch.cuda.is_available())\n",
    "# 利用可能なGPUのディバイス名を表示\n",
    "print(torch.cuda.get_device_name(0))  "
   ]
  },
  {
   "cell_type": "code",
   "execution_count": null,
   "metadata": {},
   "outputs": [],
   "source": [
    "\"\"\"\n",
    "「CUDA」という単語は、「Compute Unified Device Architecture」の略です。\n",
    "これはNVIDIAによって開発された並列計算プラットフォームおよびプログラミングモデルで、\n",
    "GPUを汎用計算に利用できるようにするためのものです。\n",
    "GPUを使用することで、特定の計算タスク（例えば機械学習や深層学習）が大幅に高速化されることがあります。\n",
    "\"\"\"\n",
    "\n",
    "if torch.cuda.is_available():\n",
    "    # model = model.to(\"cuda\")    # RAMからGPU側へ転送\n",
    "    device = torch.device(\"cuda\")  # GPUデバイスを取得\n",
    "    model = model.to(device)       # GPUにモデルを転送\n"
   ]
  },
  {
   "cell_type": "code",
   "execution_count": null,
   "metadata": {},
   "outputs": [],
   "source": [
    "text = \"西田幾多郎は、\"\n",
    "# token_ids = tokenizer.encode(text, add_special_tokens=False, return_tensors=\"pt\")\n",
    "any: Any = tokenizer.encode(text, add_special_tokens=False, return_tensors=\"pt\")\n",
    "token_ids: torch.Tensor = any\n"
   ]
  },
  {
   "cell_type": "code",
   "execution_count": null,
   "metadata": {},
   "outputs": [],
   "source": [
    "# トークンもGPUに転送\n",
    "# if torch.cuda.is_available():\n",
    "#     token_ids = token_ids.to(\"cuda\")    # RAMからGPU側へ転送\n"
   ]
  },
  {
   "cell_type": "code",
   "execution_count": null,
   "metadata": {},
   "outputs": [],
   "source": [
    "with torch.no_grad():\n",
    "    output_ids = model.generate(\n",
    "        token_ids.to(model.device),\n",
    "        max_length=100,\n",
    "        min_length=100,\n",
    "        do_sample=True,\n",
    "        top_k=500,\n",
    "        top_p=0.95,\n",
    "        pad_token_id=tokenizer.pad_token_id,\n",
    "        bos_token_id=tokenizer.bos_token_id,\n",
    "        eos_token_id=tokenizer.eos_token_id,\n",
    "        bad_words_ids=[[tokenizer.unk_token_id]]\n",
    "    )\n"
   ]
  },
  {
   "cell_type": "code",
   "execution_count": null,
   "metadata": {},
   "outputs": [],
   "source": [
    "output = tokenizer.decode(output_ids.tolist()[0])\n",
    "print(output)  "
   ]
  }
 ],
 "metadata": {
  "kernelspec": {
   "display_name": ".venv",
   "language": "python",
   "name": "python3"
  },
  "language_info": {
   "codemirror_mode": {
    "name": "ipython",
    "version": 3
   },
   "file_extension": ".py",
   "mimetype": "text/x-python",
   "name": "python",
   "nbconvert_exporter": "python",
   "pygments_lexer": "ipython3",
   "version": "3.10.12"
  },
  "orig_nbformat": 4,
  "vscode": {
   "interpreter": {
    "hash": "00b0d91d220cd2884303810c80f143c1222c3c3704eaa0756460e122a00ee18a"
   }
  }
 },
 "nbformat": 4,
 "nbformat_minor": 2
}
