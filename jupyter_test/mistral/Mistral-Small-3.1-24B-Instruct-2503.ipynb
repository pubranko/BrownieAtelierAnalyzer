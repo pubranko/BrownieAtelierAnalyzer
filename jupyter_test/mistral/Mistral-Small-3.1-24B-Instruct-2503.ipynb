{
 "cells": [
  {
   "cell_type": "code",
   "execution_count": null,
   "metadata": {},
   "outputs": [],
   "source": [
    "import requests\n",
    "import json\n",
    "from huggingface_hub import hf_hub_download\n",
    "from datetime import datetime, timedelta\n",
    "\n",
    "url = \"http://<your-server-url>:8000/v1/chat/completions\"\n",
    "headers = {\"Content-Type\": \"application/json\", \"Authorization\": \"Bearer token\"}\n",
    "\n",
    "model = \"mistralai/Mistral-Small-3.1-24B-Instruct-2503\""
   ]
  },
  {
   "cell_type": "code",
   "execution_count": null,
   "metadata": {},
   "outputs": [],
   "source": [
    "\n",
    "def load_system_prompt(repo_id: str, filename: str) -> str:\n",
    "    file_path = hf_hub_download(repo_id=repo_id, filename=filename)\n",
    "    with open(file_path, \"r\") as file:\n",
    "        system_prompt = file.read()\n",
    "    today = datetime.today().strftime(\"%Y-%m-%d\")\n",
    "    yesterday = (datetime.today() - timedelta(days=1)).strftime(\"%Y-%m-%d\")\n",
    "    model_name = repo_id.split(\"/\")[-1]\n",
    "    return system_prompt.format(name=model_name, today=today, yesterday=yesterday)\n"
   ]
  },
  {
   "cell_type": "code",
   "execution_count": null,
   "metadata": {},
   "outputs": [],
   "source": [
    "SYSTEM_PROMPT = load_system_prompt(model, \"SYSTEM_PROMPT.txt\")\n",
    "\n",
    "image_url = \"https://huggingface.co/datasets/patrickvonplaten/random_img/resolve/main/europe.png\"\n",
    "\n",
    "messages = [\n",
    "    {\"role\": \"system\", \"content\": SYSTEM_PROMPT},\n",
    "    {\n",
    "        \"role\": \"user\",\n",
    "        \"content\": [\n",
    "            {\n",
    "                \"type\": \"text\",\n",
    "                \"text\": \"Which of the depicted countries has the best food? Which the second and third and fourth? Name the country, its color on the map and one its city that is visible on the map, but is not the capital. Make absolutely sure to only name a city that can be seen on the map.\",\n",
    "            },\n",
    "            {\"type\": \"image_url\", \"image_url\": {\"url\": image_url}},\n",
    "        ],\n",
    "    },\n",
    "]\n",
    "\n",
    "data = {\"model\": model, \"messages\": messages, \"temperature\": 0.15}"
   ]
  },
  {
   "cell_type": "code",
   "execution_count": null,
   "metadata": {},
   "outputs": [],
   "source": [
    "response = requests.post(url, headers=headers, data=json.dumps(data))\n",
    "print(response.json()[\"choices\"][0][\"message\"][\"content\"])"
   ]
  }
 ],
 "metadata": {
  "kernelspec": {
   "display_name": ".venv",
   "language": "python",
   "name": "python3"
  },
  "language_info": {
   "codemirror_mode": {
    "name": "ipython",
    "version": 3
   },
   "file_extension": ".py",
   "mimetype": "text/x-python",
   "name": "python",
   "nbconvert_exporter": "python",
   "pygments_lexer": "ipython3",
   "version": "3.10.12"
  },
  "orig_nbformat": 4,
  "vscode": {
   "interpreter": {
    "hash": "00b0d91d220cd2884303810c80f143c1222c3c3704eaa0756460e122a00ee18a"
   }
  }
 },
 "nbformat": 4,
 "nbformat_minor": 2
}
