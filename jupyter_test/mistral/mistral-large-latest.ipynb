{
 "cells": [
  {
   "cell_type": "code",
   "execution_count": null,
   "metadata": {},
   "outputs": [],
   "source": [
    "\"\"\"\n",
    "apiドキュメント\n",
    "    https://docs.mistral.ai/\n",
    "apiサイト (api-key等の発行、)\n",
    "    https://console.mistral.ai/home\n",
    "api\n",
    "    https://docs.mistral.ai/api/\n",
    "\n",
    "\"\"\""
   ]
  },
  {
   "cell_type": "code",
   "execution_count": 2,
   "metadata": {},
   "outputs": [
    {
     "name": "stdout",
     "output_type": "stream",
     "text": [
      "api_key = v1jCwt...3xfrj\n",
      "model='mistral-large-latest'\n"
     ]
    }
   ],
   "source": [
    "from typing import Optional, cast\n",
    "from decouple import config\n",
    "from mistralai import Mistral\n",
    "from mistralai.models import ChatCompletionResponse, ChatCompletionChoice\n",
    "\n",
    "api_key = str(config(\"BROWNIE_ATELIER_ANALYZER__MISTRAL_API_KEY\", default=\"\"))\n",
    "if len(api_key) > 0:\n",
    "    print(f\"api_key = {api_key[:6]}...{api_key[-5:]}\")\n",
    "model = \"mistral-large-latest\"  # 公式APIのモデル名（例）\n",
    "model = str(config(\"BROWNIE_ATELIER_ANALYZER__MISTRAL_MODEL_NAME\", default=\"\"))  # 公式APIのモデル名（例）\n",
    "print(f\"{model=}\")\n",
    "\n",
    "client = Mistral(api_key=api_key)\n"
   ]
  },
  {
   "cell_type": "code",
   "execution_count": null,
   "metadata": {},
   "outputs": [],
   "source": [
    "# client.chat.complete は、Mistral AIのチャットモデルに質問や会話を送り、AIの応答を得るためのメソッドです。\n",
    "chat_response:ChatCompletionResponse = client.chat.complete(\n",
    "    \n",
    "    # パラメータで使用するMistral AIのモデル名（例: \"mistral-large-latest\"）を指定します。\n",
    "    model=model,\n",
    "    # パラメータはリスト形式で、会話履歴や質問内容を含みます。\n",
    "    # 各メッセージは辞書型で、role（\"user\"や\"system\"、\"assistant\"など）とcontent（内容のテキスト）を持ちます。\n",
    "    messages=[\n",
    "        {\"role\": \"user\", \"content\": \"日本のAIの現状について教えてください。\"}\n",
    "    ]\n",
    ")"
   ]
  },
  {
   "cell_type": "code",
   "execution_count": null,
   "metadata": {},
   "outputs": [],
   "source": [
    "from mistralai.models.basemodelcard import BaseModelCard\n",
    "_ = client.models.retrieve(model_id=\"mistral-large-2411\")  # 指定モデルの詳細情報を取得\n",
    "model_info:BaseModelCard = cast(BaseModelCard, _)   # 型定義をBaseModelCardに変換\n",
    "import pprint\n",
    "print(type(model_info))\n",
    "# print(vars(model_info))\n",
    "# for _ in vars(model_info).items():\n",
    "# for _ in vars(model_info):\n",
    "# for _ in model_info:\n",
    "#     print(_)\n",
    "print(model_info.__dict__)\n",
    "a =model_info.__dict__\n",
    "# pprint.pprint(model_info)\n",
    "model_info.id\n"
   ]
  },
  {
   "cell_type": "code",
   "execution_count": null,
   "metadata": {},
   "outputs": [],
   "source": [
    "from mistralai import models\n",
    "from mistralai.models.basemodelcard import BaseModelCard\n",
    "import re\n",
    "\n",
    "model_list: models.ModelList = client.models.list()\n",
    "mistral_large_list = []\n",
    "pattern = r\"^mistral-large-\\d{4}$\"\n",
    "for data in model_list:\n",
    "    # m:BaseModelCard\n",
    "    for model_card_list in data:\n",
    "        if type(model_card_list) == list:\n",
    "            for l in model_card_list:\n",
    "                l:BaseModelCard\n",
    "                if re.match(pattern, l.id):\n",
    "                    print(l.id)\n",
    "                    mistral_large_list.append(l.id)\n",
    "print(mistral_large_list)\n",
    "\n",
    "s = sorted(mistral_large_list, reverse=True)\n",
    "print(s[0])"
   ]
  },
  {
   "cell_type": "code",
   "execution_count": null,
   "metadata": {},
   "outputs": [],
   "source": [
    "chat_response_choices: Optional[list[ChatCompletionChoice]] = chat_response.choices\n",
    "\n",
    "if chat_response_choices:\n",
    "    print(type(chat_response_choices))\n",
    "    print(type(chat_response_choices[0]))\n",
    "    print(type(chat_response_choices[0].message))\n",
    "    print(type(chat_response_choices[0].message.content))\n",
    "    print(chat_response_choices[0].message.content)\n",
    "# print(chat_response.choices[0].message.content)"
   ]
  },
  {
   "cell_type": "code",
   "execution_count": null,
   "metadata": {},
   "outputs": [],
   "source": [
    "# usage情報の表示\n",
    "usage = getattr(chat_response, \"usage\", None)\n",
    "if usage:\n",
    "    print(f\"入力トークン数: {usage.prompt_tokens}\")\n",
    "    print(f\"出力トークン数: {usage.completion_tokens}\")\n",
    "    print(f\"合計トークン数: {usage.total_tokens}\")\n",
    "else:\n",
    "    print(\"usage情報がレスポンスに含まれていません。\")\n",
    "import pprint\n",
    "pprint.pprint(chat_response)"
   ]
  },
  {
   "cell_type": "code",
   "execution_count": null,
   "metadata": {},
   "outputs": [],
   "source": [
    "会議録 = {\n",
    "    \"_id\": { \"$oid\": \"680203292a727c5ec6e45912\" },\n",
    "    \"crawling_start_time\": { \"$date\": \"2025-04-17T01:39:46.491Z\" },\n",
    "    \"response_time\": { \"$date\": \"2025-04-17T01:39:52.916Z\" },\n",
    "    \"issueID\": \"121405254X00120241001\",\n",
    "    \"imageKind\": \"会議録\",\n",
    "    \"searchObject\": 0,\n",
    "    \"session\": 214,\n",
    "    \"nameOfHouse\": \"衆議院\",\n",
    "    \"nameOfMeeting\": \"本会議\",\n",
    "    \"issue\": \"第1号\",\n",
    "    \"date\": \"2024-10-01\",\n",
    "    \"closing\": None,\n",
    "    \"speechRecord\": [\n",
    "    {\n",
    "    \"speechID\": \"121405254X00120241001_000\",\n",
    "    \"speechOrder\": 0,\n",
    "    \"speaker\": \"会議録情報\",\n",
    "    \"speakerYomi\": None,\n",
    "    \"speakerGroup\": None,\n",
    "    \"speakerPosition\": None,\n",
    "    \"speakerRole\": None,\n",
    "    \"speech\": \"令和六年十月一日（火曜日）\\r\\n　　　　―――――――――――――\\r\\n　議事日程　第一号\\r\\n　　令和六年十月一日\\r\\n　　　　午後一時開議\\r\\n　第一　議席の指定\\r\\n　第二　会期の件\\r\\n　第三　常任委員長の選挙\\r\\n　　　　―――――――――――――\\r\\n○本日の会議に付した案件\\r\\n　日程第一　議席の指定\\r\\n　日程第二　会期の件\\r\\n　議院運営委員長辞任の件\\r\\n　議院運営委員長及び決算行政監視委員長の選挙\\r\\n　内閣総理大臣の指名\\r\\n　　　　午後一時二十七分開議\",\n",
    "    \"startPage\": 1,\n",
    "    \"createTime\": \"2024-10-30 19:37:37\",\n",
    "    \"updateTime\": \"2024-10-31 09:40:30\",\n",
    "    \"speechURL\": \"https://kokkai.ndl.go.jp/txt/121405254X00120241001/0\"\n",
    "    },\n",
    "    {\n",
    "    \"speechID\": \"121405254X00120241001_001\",\n",
    "    \"speechOrder\": 1,\n",
    "    \"speaker\": \"額賀福志郎\",\n",
    "    \"speakerYomi\": \"ぬかがふくしろう\",\n",
    "    \"speakerGroup\": \"無所属\",\n",
    "    \"speakerPosition\": \"議長\",\n",
    "    \"speakerRole\": None,\n",
    "    \"speech\": \"○議長（額賀福志郎君）　諸君、第二百十四回国会は本日召集されました。\\r\\n　これより会議を開きます。\\r\\n　　　　　――――◇―――――\\r\\n　日程第一　議席の指定\",\n",
    "    \"startPage\": 1,\n",
    "    \"createTime\": \"2024-10-30 19:37:37\",\n",
    "    \"updateTime\": \"2024-10-31 09:40:30\",\n",
    "    \"speechURL\": \"https://kokkai.ndl.go.jp/txt/121405254X00120241001/1\"\n",
    "    },\n",
    "    {\n",
    "    \"speechID\": \"121405254X00120241001_002\",\n",
    "    \"speechOrder\": 2,\n",
    "    \"speaker\": \"額賀福志郎\",\n",
    "    \"speakerYomi\": \"ぬかがふくしろう\",\n",
    "    \"speakerGroup\": \"無所属\",\n",
    "    \"speakerPosition\": \"議長\",\n",
    "    \"speakerRole\": None,\n",
    "    \"speech\": \"○議長（額賀福志郎君）　日程第一、議席の指定を行います。\\r\\n　衆議院規則第十四条によりまして、諸君の議席は、議長において、ただいまの仮議席のとおりに指定いたします。\\r\\n　　　　　――――◇―――――\",\n",
    "    \"startPage\": 1,\n",
    "    \"createTime\": \"2024-10-30 19:37:37\",\n",
    "    \"updateTime\": \"2024-10-31 09:40:30\",\n",
    "    \"speechURL\": \"https://kokkai.ndl.go.jp/txt/121405254X00120241001/2\"\n",
    "    },\n",
    "    {\n",
    "    \"speechID\": \"121405254X00120241001_003\",\n",
    "    \"speechOrder\": 3,\n",
    "    \"speaker\": \"額賀福志郎\",\n",
    "    \"speakerYomi\": \"ぬかがふくしろう\",\n",
    "    \"speakerGroup\": \"無所属\",\n",
    "    \"speakerPosition\": \"議長\",\n",
    "    \"speakerRole\": None,\n",
    "    \"speech\": \"○議長（額賀福志郎君）　この際、新たに議席に着かれました議員を紹介いたします。\\r\\n　第四百三十七番、北海道選挙区選出議員、高橋祐介君。\\r\\n　　　　〔高橋祐介君起立、拍手〕\\r\\n　　　　　――――◇―――――\\r\\n　日程第二　会期の件\",\n",
    "    \"startPage\": 1,\n",
    "    \"createTime\": \"2024-10-30 19:37:37\",\n",
    "    \"updateTime\": \"2024-10-31 09:40:30\",\n",
    "    \"speechURL\": \"https://kokkai.ndl.go.jp/txt/121405254X00120241001/3\"\n",
    "    },\n",
    "    {\n",
    "    \"speechID\": \"121405254X00120241001_004\",\n",
    "    \"speechOrder\": 4,\n",
    "    \"speaker\": \"額賀福志郎\",\n",
    "    \"speakerYomi\": \"ぬかがふくしろう\",\n",
    "    \"speakerGroup\": \"無所属\",\n",
    "    \"speakerPosition\": \"議長\",\n",
    "    \"speakerRole\": None,\n",
    "    \"speech\": \"○議長（額賀福志郎君）　日程第二、会期の件につきお諮りいたします。\\r\\n　今回の臨時会の会期は、十月九日まで九日間といたしたいと存じ、これを発議いたします。\\r\\n　本件につき討論の通告があります。これを許します。小川淳也君。\\r\\n　　　　〔小川淳也君登壇〕\",\n",
    "    \"startPage\": 1,\n",
    "    \"createTime\": \"2024-10-30 19:37:37\",\n",
    "    \"updateTime\": \"2024-10-31 09:40:30\",\n",
    "    \"speechURL\": \"https://kokkai.ndl.go.jp/txt/121405254X00120241001/4\"\n",
    "    }\n",
    "    ]\n",
    "}"
   ]
  },
  {
   "cell_type": "code",
   "execution_count": null,
   "metadata": {},
   "outputs": [],
   "source": [
    "chat_response:ChatCompletionResponse = client.chat.complete(\n",
    "    model=model,\n",
    "    messages=[\n",
    "        {\"role\": \"user\", \"content\": f\"次の国会の会議録を要約して。\\n{会議録}\"}\n",
    "    ]\n",
    ")"
   ]
  },
  {
   "cell_type": "code",
   "execution_count": null,
   "metadata": {},
   "outputs": [],
   "source": [
    "chat_response_choices: Optional[list[ChatCompletionChoice]] = chat_response.choices\n",
    "\n",
    "if chat_response_choices:\n",
    "    print(chat_response_choices[0].message.content)\n",
    "# print(chat_response.choices[0].message.content)"
   ]
  },
  {
   "cell_type": "code",
   "execution_count": null,
   "metadata": {},
   "outputs": [],
   "source": [
    "# usage情報の表示\n",
    "usage = getattr(chat_response, \"usage\", None)\n",
    "if usage:\n",
    "    print(f\"入力トークン数: {usage.prompt_tokens}\")\n",
    "    print(f\"出力トークン数: {usage.completion_tokens}\")\n",
    "    print(f\"合計トークン数: {usage.total_tokens}\")\n",
    "else:\n",
    "    print(\"usage情報がレスポンスに含まれていません。\")"
   ]
  }
 ],
 "metadata": {
  "kernelspec": {
   "display_name": ".venv",
   "language": "python",
   "name": "python3"
  },
  "language_info": {
   "codemirror_mode": {
    "name": "ipython",
    "version": 3
   },
   "file_extension": ".py",
   "mimetype": "text/x-python",
   "name": "python",
   "nbconvert_exporter": "python",
   "pygments_lexer": "ipython3",
   "version": "3.10.12"
  },
  "orig_nbformat": 4,
  "vscode": {
   "interpreter": {
    "hash": "00b0d91d220cd2884303810c80f143c1222c3c3704eaa0756460e122a00ee18a"
   }
  }
 },
 "nbformat": 4,
 "nbformat_minor": 2
}
